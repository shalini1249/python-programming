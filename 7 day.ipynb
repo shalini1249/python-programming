{
 "cells": [
  {
   "cell_type": "code",
   "execution_count": 5,
   "metadata": {},
   "outputs": [
    {
     "name": "stdout",
     "output_type": "stream",
     "text": [
      "90\n"
     ]
    }
   ],
   "source": [
    "def printeven(n):\n",
    "    cnt=0\n",
    "    sum=0\n",
    "    while(cnt!=n):\n",
    "        if(cnt%2==0):\n",
    "            sum=sum+cnt;\n",
    "        cnt=cnt+1;\n",
    "    return sum\n",
    "print(printeven(20))"
   ]
  },
  {
   "cell_type": "code",
   "execution_count": 9,
   "metadata": {
    "scrolled": true
   },
   "outputs": [
    {
     "name": "stdout",
     "output_type": "stream",
     "text": [
      "1 2 3 4 6 "
     ]
    }
   ],
   "source": [
    "def factorslist(n):\n",
    "    i=1;\n",
    "    while(i!=n):\n",
    "        if(n%i==0):\n",
    "            print(i,end=\" \");\n",
    "        i=i+1;\n",
    "    return;\n",
    "factorslist(12);\n"
   ]
  },
  {
   "cell_type": "code",
   "execution_count": 8,
   "metadata": {},
   "outputs": [
    {
     "name": "stdout",
     "output_type": "stream",
     "text": [
      "target item is not item\n"
     ]
    }
   ],
   "source": [
    "def linearSearch(a,tarItem):\n",
    "    flag = 0;\n",
    "    for i in range(len(a)):\n",
    "        if a[i] == tarItem:\n",
    "            flag = 1;\n",
    "            break\n",
    "    if(flag!=0):\n",
    "        print(\"target ietm is found\");\n",
    "    else:\n",
    "        print(\"target item is not item\");\n",
    "        \n",
    "a=[16,2,12,6,9,7,1]\n",
    "linearSearch(a,61)"
   ]
  },
  {
   "cell_type": "code",
   "execution_count": 11,
   "metadata": {},
   "outputs": [
    {
     "name": "stdout",
     "output_type": "stream",
     "text": [
      "! !  ! ! ! ! ! !  ! ! ! ! ! ! ! ! !  "
     ]
    }
   ],
   "source": [
    "def linearExample2(a,tarItem):\n",
    "    for i in range(len(a)):\n",
    "        if a[i] == tarItem:\n",
    "            j = 0\n",
    "            while j!= i+1:\n",
    "                print(\"!\",end =\" \")\n",
    "                j = j+1\n",
    "            print(end = \" \")\n",
    "            \n",
    "a = [1,5,7,9,6,5,15,12,5]\n",
    "linearExample2(a,5)"
   ]
  },
  {
   "cell_type": "code",
   "execution_count": 13,
   "metadata": {},
   "outputs": [
    {
     "name": "stdout",
     "output_type": "stream",
     "text": [
      "14569\n"
     ]
    }
   ],
   "source": [
    "list1=[1,4,5,6,9]\n",
    "for x in list1:\n",
    "    print(x,end=\"\");\n",
    "    \n",
    "print();\n",
    "    "
   ]
  },
  {
   "cell_type": "code",
   "execution_count": 23,
   "metadata": {},
   "outputs": [
    {
     "name": "stdout",
     "output_type": "stream",
     "text": [
      "46\n"
     ]
    }
   ],
   "source": [
    "def result(list1):\n",
    " s=0\n",
    " for x in list1:\n",
    "    if x%2==0:\n",
    "     s=s*10+x\n",
    "    print(s)\n",
    "result([1,4,5,6,9])"
   ]
  },
  {
   "cell_type": "code",
   "execution_count": 34,
   "metadata": {},
   "outputs": [
    {
     "name": "stdout",
     "output_type": "stream",
     "text": [
      "0\n",
      "4\n",
      "4\n",
      "46\n",
      "46\n",
      "<function result at 0x7f3bfc175488> \n"
     ]
    }
   ],
   "source": [
    "def result(list1):\n",
    " s=0\n",
    " for x in list1:\n",
    "    if x%2==0:\n",
    "      s=s*10+x\n",
    "    print(s)\n",
    "result([1,4,5,6,9])\n",
    "print(result,end=\" \");\n",
    "\n",
    "print();\n"
   ]
  },
  {
   "cell_type": "code",
   "execution_count": null,
   "metadata": {},
   "outputs": [],
   "source": []
  }
 ],
 "metadata": {
  "kernelspec": {
   "display_name": "Python 3",
   "language": "python",
   "name": "python3"
  },
  "language_info": {
   "codemirror_mode": {
    "name": "ipython",
    "version": 3
   },
   "file_extension": ".py",
   "mimetype": "text/x-python",
   "name": "python",
   "nbconvert_exporter": "python",
   "pygments_lexer": "ipython3",
   "version": "3.7.3"
  }
 },
 "nbformat": 4,
 "nbformat_minor": 2
}
